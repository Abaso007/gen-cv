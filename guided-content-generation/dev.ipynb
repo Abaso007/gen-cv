{
 "cells": [
  {
   "cell_type": "code",
   "execution_count": 27,
   "metadata": {},
   "outputs": [],
   "source": [
    "from VideoTools import VideoExtractor, VideoAnalyzer\n",
    "from dotenv import load_dotenv, find_dotenv\n",
    "import os\n",
    "from openai import AzureOpenAI\n",
    "from utils import check_and_reduce_image_size, display_moderation_results\n",
    "import base64\n",
    "from IPython.display import display, Markdown"
   ]
  },
  {
   "cell_type": "code",
   "execution_count": 2,
   "metadata": {},
   "outputs": [],
   "source": [
    "load_dotenv(find_dotenv())\n",
    "\n",
    "aoai_endpoint = os.getenv('AOAI_ENDPOINT')\n",
    "aoai_key = os.getenv('AOAI_KEY')\n",
    "gpt_deployment = os.getenv('GPT_DEPLOYMENT')\n",
    "\n",
    "content_safety_endpoint = os.getenv('CONTENT_SAFETY_ENDPOINT')\n",
    "content_safety_key = os.getenv('CONTENT_SAFETY_KEY')\n",
    "\n",
    "aoai_client = AzureOpenAI(api_version=\"2024-05-01-preview\", api_key=aoai_key, azure_endpoint=aoai_endpoint) \n",
    "\n",
    "analyzer = VideoAnalyzer(aoai_client, gpt_deployment, content_safety_endpoint, content_safety_key)\n"
   ]
  },
  {
   "cell_type": "code",
   "execution_count": 4,
   "metadata": {},
   "outputs": [],
   "source": [
    "current_image_path = \"images/image_0044.png\"\n",
    "content_safety_image_path = check_and_reduce_image_size(current_image_path)\n"
   ]
  },
  {
   "cell_type": "code",
   "execution_count": 7,
   "metadata": {},
   "outputs": [],
   "source": [
    "with open(content_safety_image_path, \"rb\") as image_file:\n",
    "    base64_encoded_string = base64.b64encode(image_file.read()).decode('utf-8')"
   ]
  },
  {
   "cell_type": "code",
   "execution_count": 8,
   "metadata": {},
   "outputs": [],
   "source": [
    "cf_results = analyzer.content_safety_moderate_image(base64_encoded_string)"
   ]
  },
  {
   "cell_type": "code",
   "execution_count": 9,
   "metadata": {},
   "outputs": [
    {
     "data": {
      "text/plain": [
       "{'categoriesAnalysis': [{'category': 'Hate', 'severity': 0},\n",
       "  {'category': 'SelfHarm', 'severity': 0},\n",
       "  {'category': 'Sexual', 'severity': 0},\n",
       "  {'category': 'Violence', 'severity': 0}]}"
      ]
     },
     "execution_count": 9,
     "metadata": {},
     "output_type": "execute_result"
    }
   ],
   "source": [
    "cf_results"
   ]
  },
  {
   "cell_type": "code",
   "execution_count": 32,
   "metadata": {},
   "outputs": [],
   "source": [
    "hate_thresh_label = \"safe\"\n",
    "selfharm_thresh_label = \"med\"\n",
    "sexual_thresh_label = \"med\"\n",
    "violence_thresh_label = \"med\"\n",
    "\n",
    "\n",
    "severity_to_id = {\"safe\" : 0, \"low\" : 2, \"med\" : 4, \"high\" : 6}\n",
    "id_to_severity = {0 : \"safe\", 2 : \"low\", 4 : \"med\", 6 : \"high\"}\n",
    "\n",
    "severity_thresholds = {'Hate' : severity_to_id[hate_thresh_label],\n",
    "                       'SelfHarm' : severity_to_id[selfharm_thresh_label],\n",
    "                       'Sexual' : severity_to_id[sexual_thresh_label],\n",
    "                       'Violence' : severity_to_id[violence_thresh_label]}"
   ]
  },
  {
   "cell_type": "code",
   "execution_count": 14,
   "metadata": {},
   "outputs": [
    {
     "data": {
      "text/plain": [
       "{'Hate': 4, 'SelfHarm': 4, 'Sexual': 4, 'Violence': 4}"
      ]
     },
     "execution_count": 14,
     "metadata": {},
     "output_type": "execute_result"
    }
   ],
   "source": [
    "severity_thresholds"
   ]
  },
  {
   "cell_type": "code",
   "execution_count": 33,
   "metadata": {},
   "outputs": [
    {
     "name": "stdout",
     "output_type": "stream",
     "text": [
      "{'category': 'Hate', 'severity': 0}\n",
      "{'category': 'SelfHarm', 'severity': 0}\n",
      "{'category': 'Sexual', 'severity': 0}\n",
      "{'category': 'Violence', 'severity': 0}\n"
     ]
    },
    {
     "data": {
      "text/plain": [
       "{'Hate': {'filtered': True, 'severity': 'safe'},\n",
       " 'SelfHarm': {'filtered': False, 'severity': 'safe'},\n",
       " 'Sexual': {'filtered': False, 'severity': 'safe'},\n",
       " 'Violence': {'filtered': False, 'severity': 'safe'}}"
      ]
     },
     "execution_count": 33,
     "metadata": {},
     "output_type": "execute_result"
    }
   ],
   "source": [
    "cs_results_dict = {}\n",
    "\n",
    "for item in cf_results['categoriesAnalysis']:\n",
    "    print(item)\n",
    "    cs_results_dict[item['category']] = {\n",
    "        'filtered' : False if item['severity'] < severity_thresholds[item['category']] else True,\n",
    "        'severity' : id_to_severity[item['severity']]}\n",
    "\n",
    "cs_results_dict"
   ]
  },
  {
   "cell_type": "code",
   "execution_count": 34,
   "metadata": {},
   "outputs": [
    {
     "data": {
      "text/markdown": [
       "**Image content safety**: Hate: <span style='color:red;'>safe</span>, SelfHarm: safe, Sexual: safe, Violence: safe"
      ],
      "text/plain": [
       "<IPython.core.display.Markdown object>"
      ]
     },
     "metadata": {},
     "output_type": "display_data"
    }
   ],
   "source": [
    "cs_results_markdown = display_moderation_results(cs_results_dict)\n",
    "display(Markdown(\"**Image content safety**: \" + cs_results_markdown))"
   ]
  }
 ],
 "metadata": {
  "kernelspec": {
   "display_name": "gcg",
   "language": "python",
   "name": "python3"
  },
  "language_info": {
   "codemirror_mode": {
    "name": "ipython",
    "version": 3
   },
   "file_extension": ".py",
   "mimetype": "text/x-python",
   "name": "python",
   "nbconvert_exporter": "python",
   "pygments_lexer": "ipython3",
   "version": "3.12.4"
  }
 },
 "nbformat": 4,
 "nbformat_minor": 2
}
